{
 "cells": [
  {
   "cell_type": "markdown",
   "id": "172d699b",
   "metadata": {},
   "source": [
    "# Question 1\n",
    "Given an integer array nums of length n and an integer target, find three integers\n",
    "in nums such that the sum is closest to the target.\n",
    "Return the sum of the three integers.\n",
    "\n",
    "You may assume that each input would have exactly one solution.\n",
    "\n",
    "Example 1:\n",
    "Input: nums = [-1,2,1,-4], target = 1\n",
    "Output: 2\n",
    "\n",
    "Explanation: The sum that is closest to the target is 2. (-1 + 2 + 1 = 2)."
   ]
  },
  {
   "cell_type": "code",
   "execution_count": 1,
   "id": "6171f2d6",
   "metadata": {},
   "outputs": [],
   "source": [
    "def threeSumClosest(nums, target):\n",
    "    nums.sort()\n",
    "    # Length of the array\n",
    "    n = len(nums)\n",
    "    # Closest value\n",
    "    closest = nums[0] + nums[1] + nums[n - 1]\n",
    "    # Loop for each element of the array\n",
    "    for i in range(0, n - 2):\n",
    "        j = i + 1\n",
    "        k = n - 1\n",
    "        while j < k:\n",
    "            current_sum = nums[i] + nums[j] + nums[k]\n",
    "            if current_sum <= target:\n",
    "                j += 1\n",
    "            else:\n",
    "                k -= 1\n",
    "            if abs(closest - target) > abs(current_sum - target):\n",
    "                closest = current_sum\n",
    "    return closest"
   ]
  },
  {
   "cell_type": "code",
   "execution_count": 2,
   "id": "2917cebd",
   "metadata": {},
   "outputs": [
    {
     "data": {
      "text/plain": [
       "2"
      ]
     },
     "execution_count": 2,
     "metadata": {},
     "output_type": "execute_result"
    }
   ],
   "source": [
    "threeSumClosest([-1,2,1,-4], 1)"
   ]
  },
  {
   "cell_type": "markdown",
   "id": "d68a7c88",
   "metadata": {},
   "source": [
    "# Question 2\n",
    "Given an array nums of n integers, return an array of all the unique quadruplets\n",
    "[nums[a], nums[b], nums[c], nums[d]] such that:\n",
    "           ● 0 <= a, b, c, d < n\n",
    "           ● a, b, c, and d are distinct.\n",
    "           ● nums[a] + nums[b] + nums[c] + nums[d] == target\n",
    "\n",
    "You may return the answer in any order.\n",
    "\n",
    "Example 1:\n",
    "Input: nums = [1,0,-1,0,-2,2], target = 0\n",
    "Output: [[-2,-1,1,2],[-2,0,0,2],[-1,0,0,1]]"
   ]
  },
  {
   "cell_type": "code",
   "execution_count": 9,
   "id": "365d4840",
   "metadata": {},
   "outputs": [],
   "source": [
    "class Pair:\n",
    "    def __init__(self, x, y):\n",
    "        self.index1 = x\n",
    "        self.index2 = y\n",
    "\n",
    "def GetQuadruplets(nums, target):\n",
    "    # Store the sum mapped to a list of pair indices\n",
    "    map = {}\n",
    " \n",
    "    # Generate all possible pairs for the map\n",
    "    for i in range(len(nums) - 1):\n",
    "        for j in range(i + 1, len(nums)):\n",
    "            # Find the sum of pairs of elements\n",
    "            sum = nums[i] + nums[j]\n",
    " \n",
    "            # If the sum doesn't exist then update with the new pairs\n",
    "            if sum not in map:\n",
    "                map[sum] = [Pair(i, j)]\n",
    "            # Otherwise, add the new pair of indices to the current sum\n",
    "            else:\n",
    "                map[sum].append(Pair(i, j))\n",
    " \n",
    "    # Store all the Quadruplets\n",
    "    ans = set()\n",
    " \n",
    "    for i in range(len(nums) - 1):\n",
    "        for j in range(i + 1, len(nums)):\n",
    "            lookUp = target - (nums[i] + nums[j])\n",
    " \n",
    "            # If the sum with value (K - sum) exists\n",
    "            if lookUp in map:\n",
    "                # Get the pair of indices of sum\n",
    "                temp = map[lookUp]\n",
    " \n",
    "                for pair in temp:\n",
    "                    # Check if i, j, k and l are distinct or not\n",
    "                    if pair.index1 != i and pair.index1 != j and pair.index2 != i and pair.index2 != j:\n",
    "                        l1 = [nums[pair.index1], nums[pair.index2], nums[i], nums[j]]\n",
    "                         \n",
    "                        # Sort the list to avoid duplicacy\n",
    "                        l1.sort()\n",
    "                         \n",
    "                        # Update the set\n",
    "                        ans.add(tuple(l1))\n",
    " \n",
    "    # Print all the Quadruplets\n",
    "    print(*reversed(list(ans)), sep = '\\n')"
   ]
  },
  {
   "cell_type": "code",
   "execution_count": 10,
   "id": "ad00fc3c",
   "metadata": {},
   "outputs": [
    {
     "name": "stdout",
     "output_type": "stream",
     "text": [
      "(-2, 0, 0, 2)\n",
      "(-1, 0, 0, 1)\n",
      "(-2, -1, 1, 2)\n"
     ]
    }
   ],
   "source": [
    "GetQuadruplets([1,0,-1,0,-2,2], 0)"
   ]
  },
  {
   "cell_type": "markdown",
   "id": "4231f1e4",
   "metadata": {},
   "source": [
    "# <aside>\n",
    "💡 **Question 3**\n",
    "A permutation of an array of integers is an arrangement of its members into a\n",
    "sequence or linear order.\n",
    "\n",
    "For example, for arr = [1,2,3], the following are all the permutations of arr:\n",
    "[1,2,3], [1,3,2], [2, 1, 3], [2, 3, 1], [3,1,2], [3,2,1].\n",
    "\n",
    "The next permutation of an array of integers is the next lexicographically greater\n",
    "permutation of its integer. More formally, if all the permutations of the array are\n",
    "sorted in one container according to their lexicographical order, then the next\n",
    "permutation of that array is the permutation that follows it in the sorted container.\n",
    "\n",
    "If such an arrangement is not possible, the array must be rearranged as the\n",
    "lowest possible order (i.e., sorted in ascending order).\n",
    "\n",
    "● For example, the next permutation of arr = [1,2,3] is [1,3,2].\n",
    "● Similarly, the next permutation of arr = [2,3,1] is [3,1,2].\n",
    "● While the next permutation of arr = [3,2,1] is [1,2,3] because [3,2,1] does not\n",
    "have a lexicographical larger rearrangement.\n",
    "\n",
    "Given an array of integers nums, find the next permutation of nums.\n",
    "The replacement must be in place and use only constant extra memory.\n",
    "\n",
    "**Example 1:**\n",
    "Input: nums = [1,2,3]\n",
    "Output: [1,3,2]\n",
    "\n",
    "</aside>"
   ]
  },
  {
   "cell_type": "code",
   "execution_count": 15,
   "id": "e638cc0c",
   "metadata": {},
   "outputs": [],
   "source": [
    "def nextPermutation(nums):\n",
    "    i = j = len(nums)-1\n",
    "    while i > 0 and nums[i-1] >= nums[i]:\n",
    "        i -= 1\n",
    "    if i == 0:   # nums are in descending order\n",
    "        nums.reverse()\n",
    "        return \n",
    "    k = i - 1    # find the last \"ascending\" position\n",
    "    while nums[j] <= nums[k]:\n",
    "        j -= 1\n",
    "    nums[k], nums[j] = nums[j], nums[k]  \n",
    "    l, r = k+1, len(nums)-1  # reverse the second part\n",
    "    while l < r:\n",
    "        nums[l], nums[r] = nums[r], nums[l]\n",
    "        l +=1 ; r -= 1\n",
    "    return nums"
   ]
  },
  {
   "cell_type": "code",
   "execution_count": 16,
   "id": "6603bbb6",
   "metadata": {},
   "outputs": [
    {
     "data": {
      "text/plain": [
       "[1, 3, 2]"
      ]
     },
     "execution_count": 16,
     "metadata": {},
     "output_type": "execute_result"
    }
   ],
   "source": [
    "nextPermutation([1,2,3])"
   ]
  },
  {
   "cell_type": "markdown",
   "id": "128e67fb",
   "metadata": {},
   "source": [
    "# Question 4\n",
    "Given a sorted array of distinct integers and a target value, return the index if the\n",
    "target is found. If not, return the index where it would be if it were inserted in\n",
    "order.\n",
    "\n",
    "You must write an algorithm with O(log n) runtime complexity.\n",
    "\n",
    "Example 1:\n",
    "Input: nums = [1,3,5,6], target = 5\n",
    "Output: 2"
   ]
  },
  {
   "cell_type": "code",
   "execution_count": 17,
   "id": "39bb43d0",
   "metadata": {},
   "outputs": [],
   "source": [
    "def searchInsert(nums, target):\n",
    "        low, high = 0, len(nums)\n",
    "        while low < high:\n",
    "            mid = (low + high) // 2\n",
    "            if target > nums[mid]:\n",
    "                low = mid + 1\n",
    "            else:\n",
    "                high = mid\n",
    "        return low"
   ]
  },
  {
   "cell_type": "code",
   "execution_count": 18,
   "id": "88a2b447",
   "metadata": {},
   "outputs": [
    {
     "data": {
      "text/plain": [
       "2"
      ]
     },
     "execution_count": 18,
     "metadata": {},
     "output_type": "execute_result"
    }
   ],
   "source": [
    "searchInsert([1,3,5,6], 5)"
   ]
  },
  {
   "cell_type": "markdown",
   "id": "53a2357d",
   "metadata": {},
   "source": [
    "\n",
    "# **Question 5**\n",
    "You are given a large integer represented as an integer array digits, where each\n",
    "digits[i] is the ith digit of the integer. The digits are ordered from most significant\n",
    "to least significant in left-to-right order. The large integer does not contain any\n",
    "leading 0's.\n",
    "\n",
    "Increment the large integer by one and return the resulting array of digits.\n",
    "\n",
    "**Example 1:**\n",
    "Input: digits = [1,2,3]\n",
    "Output: [1,2,4]\n",
    "\n",
    "**Explanation:** The array represents the integer 123.\n",
    "Incrementing by one gives 123 + 1 = 124.\n",
    "Thus, the result should be [1,2,4].\n",
    "\n",
    "</aside>"
   ]
  },
  {
   "cell_type": "code",
   "execution_count": 21,
   "id": "ad40fe9d",
   "metadata": {},
   "outputs": [],
   "source": [
    " def plusOne(digits):\n",
    "    string =\"\"\n",
    "    result =[]\n",
    "    for d in digits:\n",
    "        string += str(d)\n",
    "    i = int(string) + 1\n",
    "    for w in str(i):\n",
    "        result.append(int(w))\n",
    "    return result"
   ]
  },
  {
   "cell_type": "code",
   "execution_count": 22,
   "id": "65c51c08",
   "metadata": {},
   "outputs": [
    {
     "data": {
      "text/plain": [
       "[1, 2, 4]"
      ]
     },
     "execution_count": 22,
     "metadata": {},
     "output_type": "execute_result"
    }
   ],
   "source": [
    "plusOne([1,2,3])"
   ]
  },
  {
   "cell_type": "markdown",
   "id": "531d665a",
   "metadata": {},
   "source": [
    "# Question 6\n",
    "Given a non-empty array of integers nums, every element appears twice except\n",
    "for one. Find that single one.\n",
    "\n",
    "You must implement a solution with a linear runtime complexity and use only\n",
    "constant extra space.\n",
    "\n",
    "Example 1:\n",
    "Input: nums = [2,2,1]\n",
    "Output: 1"
   ]
  },
  {
   "cell_type": "code",
   "execution_count": 23,
   "id": "d35ac9f2",
   "metadata": {},
   "outputs": [],
   "source": [
    "def singleNumber(nums):\n",
    "        map = {}\n",
    "        if ( nums == [] ):\n",
    "            return -1\n",
    "        for d in nums:\n",
    "            if ( d in map):\n",
    "                del map[d]\n",
    "            else:\n",
    "                map[d] = 1\n",
    "        return list(map.keys())[0]\n"
   ]
  },
  {
   "cell_type": "code",
   "execution_count": 24,
   "id": "acdd0b80",
   "metadata": {},
   "outputs": [
    {
     "data": {
      "text/plain": [
       "1"
      ]
     },
     "execution_count": 24,
     "metadata": {},
     "output_type": "execute_result"
    }
   ],
   "source": [
    "singleNumber([2,2,1])"
   ]
  },
  {
   "cell_type": "markdown",
   "id": "1e0af5eb",
   "metadata": {},
   "source": [
    "# Question 7\n",
    "You are given an inclusive range [lower, upper] and a sorted unique integer array\n",
    "nums, where all elements are within the inclusive range.\n",
    "\n",
    "A number x is considered missing if x is in the range [lower, upper] and x is not in\n",
    "nums.\n",
    "\n",
    "Return the shortest sorted list of ranges that exactly covers all the missing\n",
    "numbers. That is, no element of nums is included in any of the ranges, and each\n",
    "missing number is covered by one of the ranges.\n",
    "\n",
    "Example 1:\n",
    "Input: nums = [0,1,3,50,75], lower = 0, upper = 99\n",
    "Output: [[2,2],[4,49],[51,74],[76,99]]\n",
    "\n",
    "Explanation: The ranges are:\n",
    "[2,2]\n",
    "[4,49]\n",
    "[51,74]\n",
    "[76,99]"
   ]
  },
  {
   "cell_type": "code",
   "execution_count": 34,
   "id": "10d6ffc6",
   "metadata": {},
   "outputs": [],
   "source": [
    "def findMissingRanges(nums, lower, upper):\n",
    "    \"\"\"\n",
    "    :type nums: List[int]\n",
    "    :type lower: int\n",
    "    :type upper: int\n",
    "    :rtype: List[str]\n",
    "    \"\"\"\n",
    "    ans = []\n",
    "    nums = [lower - 1] + nums + [upper + 1]\n",
    "    for i in range(0, len(nums) - 1):\n",
    "      if nums[i] + 2 == nums[i + 1]:\n",
    "        ans.append([int(nums[i] + 1), int(nums[i]+1)])\n",
    "      if nums[i + 1] > nums[i] + 2:\n",
    "        ans.append([int(nums[i] + 1), int(nums[i + 1] - 1)])\n",
    "    return ans"
   ]
  },
  {
   "cell_type": "code",
   "execution_count": 35,
   "id": "58481668",
   "metadata": {},
   "outputs": [
    {
     "data": {
      "text/plain": [
       "[[2, 2], [4, 49], [51, 74], [76, 99]]"
      ]
     },
     "execution_count": 35,
     "metadata": {},
     "output_type": "execute_result"
    }
   ],
   "source": [
    "findMissingRanges([0,1,3,50,75], 0, 99)"
   ]
  },
  {
   "cell_type": "markdown",
   "id": "46819298",
   "metadata": {},
   "source": [
    "# Question 8\n",
    "Given an array of meeting time intervals where intervals[i] = [starti, endi],\n",
    "determine if a person could attend all meetings.\n",
    "\n",
    "Example 1:\n",
    "Input: intervals = [[0,30],[5,10],[15,20]]\n",
    "Output: false"
   ]
  },
  {
   "cell_type": "code",
   "execution_count": 36,
   "id": "f00209cd",
   "metadata": {},
   "outputs": [],
   "source": [
    "def canAttendMeetings(intervals):\n",
    "        new_intervals = sorted(intervals, key=lambda x: x[0])\n",
    "        for i in range(1,len(new_intervals)):\n",
    "            if new_intervals[i-1][1] > new_intervals[i][0]:return False\n",
    "        return True"
   ]
  },
  {
   "cell_type": "code",
   "execution_count": 37,
   "id": "710c3992",
   "metadata": {},
   "outputs": [
    {
     "data": {
      "text/plain": [
       "False"
      ]
     },
     "execution_count": 37,
     "metadata": {},
     "output_type": "execute_result"
    }
   ],
   "source": [
    "canAttendMeetings([[0,30],[5,10],[15,20]])"
   ]
  },
  {
   "cell_type": "code",
   "execution_count": null,
   "id": "ed76e294",
   "metadata": {},
   "outputs": [],
   "source": []
  }
 ],
 "metadata": {
  "kernelspec": {
   "display_name": "Python 3 (ipykernel)",
   "language": "python",
   "name": "python3"
  },
  "language_info": {
   "codemirror_mode": {
    "name": "ipython",
    "version": 3
   },
   "file_extension": ".py",
   "mimetype": "text/x-python",
   "name": "python",
   "nbconvert_exporter": "python",
   "pygments_lexer": "ipython3",
   "version": "3.9.12"
  }
 },
 "nbformat": 4,
 "nbformat_minor": 5
}
