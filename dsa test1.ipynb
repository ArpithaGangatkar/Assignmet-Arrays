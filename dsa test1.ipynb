{
 "cells": [
  {
   "cell_type": "code",
   "execution_count": 2,
   "id": "3b0fc8a9",
   "metadata": {},
   "outputs": [
    {
     "name": "stdout",
     "output_type": "stream",
     "text": [
      "Original array: 0 1 0 3 12 \n",
      "Modified array:  1 3 12 0 0 "
     ]
    }
   ],
   "source": [
    "def moveZerosToEnd (arr, n):\n",
    " \n",
    "    # Count of non-zero element\n",
    "    count = 0;\n",
    " \n",
    " \n",
    "    # Traverse the array. If arr[i] is non-zero, then\n",
    "    # update the value of arr at index count to arr[i]\n",
    "    for i in range(0, n):\n",
    "        if (arr[i] != 0):\n",
    "            arr[count] = arr[i]\n",
    "            count+=1\n",
    "    \n",
    "    # Update all elements at index >=count with value 0\n",
    "    for i in range(count, n):\n",
    "        arr[i] = 0\n",
    " \n",
    " \n",
    " \n",
    "# function to print the array elements\n",
    "def printArray(arr, n):\n",
    " \n",
    "    for i in range(0, n):\n",
    "        print(arr[i],end=\" \")\n",
    " \n",
    " \n",
    "# Driver program to test above\n",
    "arr = [0,1,0,3,12]\n",
    "n = len(arr)\n",
    " \n",
    "print(\"Original array:\", end=\" \")\n",
    "printArray(arr, n)\n",
    " \n",
    "moveZerosToEnd(arr, n)\n",
    " \n",
    "print(\"\\nModified array: \", end=\" \")\n",
    "printArray(arr, n)"
   ]
  },
  {
   "cell_type": "code",
   "execution_count": null,
   "id": "d6b54929",
   "metadata": {},
   "outputs": [],
   "source": []
  }
 ],
 "metadata": {
  "kernelspec": {
   "display_name": "Python 3 (ipykernel)",
   "language": "python",
   "name": "python3"
  },
  "language_info": {
   "codemirror_mode": {
    "name": "ipython",
    "version": 3
   },
   "file_extension": ".py",
   "mimetype": "text/x-python",
   "name": "python",
   "nbconvert_exporter": "python",
   "pygments_lexer": "ipython3",
   "version": "3.9.12"
  }
 },
 "nbformat": 4,
 "nbformat_minor": 5
}
